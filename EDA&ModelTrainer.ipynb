{
 "cells": [
  {
   "cell_type": "code",
   "execution_count": 71,
   "metadata": {},
   "outputs": [],
   "source": [
    "import pandas as pd\n"
   ]
  },
  {
   "cell_type": "code",
   "execution_count": 120,
   "metadata": {},
   "outputs": [],
   "source": [
    "df = pd.read_excel('Final_Data.xlsx',engine='openpyxl')"
   ]
  },
  {
   "cell_type": "code",
   "execution_count": 121,
   "metadata": {},
   "outputs": [
    {
     "name": "stdout",
     "output_type": "stream",
     "text": [
      "<class 'pandas.core.frame.DataFrame'>\n",
      "RangeIndex: 5689 entries, 0 to 5688\n",
      "Data columns (total 13 columns):\n",
      " #   Column             Non-Null Count  Dtype \n",
      "---  ------             --------------  ----- \n",
      " 0   Status             5689 non-null   object\n",
      " 1   Description        5680 non-null   object\n",
      " 2   Comments           5689 non-null   object\n",
      " 3   Priority           5689 non-null   object\n",
      " 4   RootCause          1737 non-null   object\n",
      " 5   Reporter           5689 non-null   object\n",
      " 6   IssueKey           5689 non-null   object\n",
      " 7   Summary            5689 non-null   object\n",
      " 8   Sprint             3249 non-null   object\n",
      " 9   Component          5229 non-null   object\n",
      " 10  Application        5679 non-null   object\n",
      " 11  Assigne            5612 non-null   object\n",
      " 12  Status_Categories  3278 non-null   object\n",
      "dtypes: object(13)\n",
      "memory usage: 577.9+ KB\n"
     ]
    }
   ],
   "source": [
    "df.info()"
   ]
  },
  {
   "cell_type": "code",
   "execution_count": 122,
   "metadata": {},
   "outputs": [
    {
     "data": {
      "text/plain": [
       "Status                  2\n",
       "Description          5604\n",
       "Comments             5281\n",
       "Priority                4\n",
       "RootCause              11\n",
       "Reporter              227\n",
       "IssueKey             5689\n",
       "Summary              5636\n",
       "Sprint                 47\n",
       "Component             141\n",
       "Application            14\n",
       "Assigne               273\n",
       "Status_Categories      13\n",
       "dtype: int64"
      ]
     },
     "execution_count": 122,
     "metadata": {},
     "output_type": "execute_result"
    }
   ],
   "source": [
    "#printing unique values for each column\n",
    "\n",
    "df.nunique()"
   ]
  },
  {
   "cell_type": "code",
   "execution_count": 123,
   "metadata": {},
   "outputs": [
    {
     "data": {
      "text/plain": [
       "Status                  0\n",
       "Description             9\n",
       "Comments                0\n",
       "Priority                0\n",
       "RootCause            3952\n",
       "Reporter                0\n",
       "IssueKey                0\n",
       "Summary                 0\n",
       "Sprint               2440\n",
       "Component             460\n",
       "Application            10\n",
       "Assigne                77\n",
       "Status_Categories    2411\n",
       "dtype: int64"
      ]
     },
     "execution_count": 123,
     "metadata": {},
     "output_type": "execute_result"
    }
   ],
   "source": [
    "df.isna().sum()"
   ]
  },
  {
   "cell_type": "code",
   "execution_count": 124,
   "metadata": {},
   "outputs": [],
   "source": [
    "#Here we can remove couple of colums\n",
    "df = df.drop(['RootCause','Reporter','IssueKey','Sprint','Component','Assigne','Status_Categories'],axis=1)"
   ]
  },
  {
   "cell_type": "code",
   "execution_count": 125,
   "metadata": {},
   "outputs": [
    {
     "data": {
      "text/html": [
       "<div>\n",
       "<style scoped>\n",
       "    .dataframe tbody tr th:only-of-type {\n",
       "        vertical-align: middle;\n",
       "    }\n",
       "\n",
       "    .dataframe tbody tr th {\n",
       "        vertical-align: top;\n",
       "    }\n",
       "\n",
       "    .dataframe thead th {\n",
       "        text-align: right;\n",
       "    }\n",
       "</style>\n",
       "<table border=\"1\" class=\"dataframe\">\n",
       "  <thead>\n",
       "    <tr style=\"text-align: right;\">\n",
       "      <th></th>\n",
       "      <th>Status</th>\n",
       "      <th>Description</th>\n",
       "      <th>Comments</th>\n",
       "      <th>Priority</th>\n",
       "      <th>Summary</th>\n",
       "      <th>Application</th>\n",
       "    </tr>\n",
       "  </thead>\n",
       "  <tbody>\n",
       "    <tr>\n",
       "      <th>0</th>\n",
       "      <td>Invalid</td>\n",
       "      <td>Build: PI7.6 FE + 8.2 BE Hotfix , App Version:...</td>\n",
       "      <td>[]</td>\n",
       "      <td>P3 - Medium</td>\n",
       "      <td>CERT|SailorAPP| On-board | Cabin Services |  I...</td>\n",
       "      <td>Sailor App</td>\n",
       "    </tr>\n",
       "    <tr>\n",
       "      <th>1</th>\n",
       "      <td>Invalid</td>\n",
       "      <td>Ship parse count for housekeeping requests:\\n ...</td>\n",
       "      <td>[{'author': {'accountId': '5e8b26768764110b816...</td>\n",
       "      <td>P3 - Medium</td>\n",
       "      <td>Counts in the parse tables are not matching be...</td>\n",
       "      <td>Crew VXP</td>\n",
       "    </tr>\n",
       "    <tr>\n",
       "      <th>2</th>\n",
       "      <td>Invalid</td>\n",
       "      <td>Hi [~accountid:5ade5093027e7a2ebfcbd97e] / [~a...</td>\n",
       "      <td>[{'author': {'accountId': '5ade5093027e7a2ebfc...</td>\n",
       "      <td>P2 - High</td>\n",
       "      <td>Magnolia | KAFKA | Ship Side Events are not co...</td>\n",
       "      <td>Sailor App</td>\n",
       "    </tr>\n",
       "    <tr>\n",
       "      <th>3</th>\n",
       "      <td>Invalid</td>\n",
       "      <td>Ship side team has successfully uploaded the s...</td>\n",
       "      <td>[{'author': {'accountId': '5caee6ee6c3b6b270f4...</td>\n",
       "      <td>P2 - High</td>\n",
       "      <td>VV-Prod-Ship | VM - Bulk uploaded successfully...</td>\n",
       "      <td>Crew VXP</td>\n",
       "    </tr>\n",
       "    <tr>\n",
       "      <th>4</th>\n",
       "      <td>Invalid</td>\n",
       "      <td>Hit the application url and do the booking flo...</td>\n",
       "      <td>[{'author': {'accountId': '5dcdc9960e14000dd49...</td>\n",
       "      <td>P4 - Low</td>\n",
       "      <td>DWP-QA-Spinner getting displayed in the top le...</td>\n",
       "      <td>eCommerce</td>\n",
       "    </tr>\n",
       "    <tr>\n",
       "      <th>...</th>\n",
       "      <td>...</td>\n",
       "      <td>...</td>\n",
       "      <td>...</td>\n",
       "      <td>...</td>\n",
       "      <td>...</td>\n",
       "      <td>...</td>\n",
       "    </tr>\n",
       "    <tr>\n",
       "      <th>5684</th>\n",
       "      <td>valid</td>\n",
       "      <td>Steps to Reproduce:\\n\\n1) Launch the applicati...</td>\n",
       "      <td>[{'author': {'accountId': '557058:138cc1fd-460...</td>\n",
       "      <td>P4 - Low</td>\n",
       "      <td>Cabin Tablet | QA | \"Writer\" label is missing ...</td>\n",
       "      <td>Sailor App</td>\n",
       "    </tr>\n",
       "    <tr>\n",
       "      <th>5685</th>\n",
       "      <td>valid</td>\n",
       "      <td>For SailorId - '001g00000238syEAAQ' which has ...</td>\n",
       "      <td>[{'author': {'accountId': '557058:26d72d9d-812...</td>\n",
       "      <td>P2 - High</td>\n",
       "      <td>QA | Seaware Reservation event not produced</td>\n",
       "      <td>Sailor App</td>\n",
       "    </tr>\n",
       "    <tr>\n",
       "      <th>5686</th>\n",
       "      <td>valid</td>\n",
       "      <td>Steps:\\n1. Launch the build.\\n2. Navigate to M...</td>\n",
       "      <td>[{'author': {'accountId': '5c893fecee0f2d70e23...</td>\n",
       "      <td>P3 - Medium</td>\n",
       "      <td>SAPP | Cabin Tablet | QA | \"Power\" button of M...</td>\n",
       "      <td>Sailor App</td>\n",
       "    </tr>\n",
       "    <tr>\n",
       "      <th>5687</th>\n",
       "      <td>valid</td>\n",
       "      <td># Go to Settings# Click on Avatar# Select Make...</td>\n",
       "      <td>[{'author': {'accountId': '5b7aea1fb96a5b58cd3...</td>\n",
       "      <td>P2 - High</td>\n",
       "      <td>[Android] Camera isn't opened after clicking o...</td>\n",
       "      <td>Sailor App</td>\n",
       "    </tr>\n",
       "    <tr>\n",
       "      <th>5688</th>\n",
       "      <td>valid</td>\n",
       "      <td>VV Sailor App | RTS | The porthole for securit...</td>\n",
       "      <td>[{'author': {'accountId': '557058:08cf54a6-0a9...</td>\n",
       "      <td>P2 - High</td>\n",
       "      <td>VV Sailor App | RTS | The porthole for securit...</td>\n",
       "      <td>Sailor App</td>\n",
       "    </tr>\n",
       "  </tbody>\n",
       "</table>\n",
       "<p>5689 rows × 6 columns</p>\n",
       "</div>"
      ],
      "text/plain": [
       "       Status                                        Description  \\\n",
       "0     Invalid  Build: PI7.6 FE + 8.2 BE Hotfix , App Version:...   \n",
       "1     Invalid  Ship parse count for housekeeping requests:\\n ...   \n",
       "2     Invalid  Hi [~accountid:5ade5093027e7a2ebfcbd97e] / [~a...   \n",
       "3     Invalid  Ship side team has successfully uploaded the s...   \n",
       "4     Invalid  Hit the application url and do the booking flo...   \n",
       "...       ...                                                ...   \n",
       "5684    valid  Steps to Reproduce:\\n\\n1) Launch the applicati...   \n",
       "5685    valid  For SailorId - '001g00000238syEAAQ' which has ...   \n",
       "5686    valid  Steps:\\n1. Launch the build.\\n2. Navigate to M...   \n",
       "5687    valid  # Go to Settings# Click on Avatar# Select Make...   \n",
       "5688    valid  VV Sailor App | RTS | The porthole for securit...   \n",
       "\n",
       "                                               Comments     Priority  \\\n",
       "0                                                    []  P3 - Medium   \n",
       "1     [{'author': {'accountId': '5e8b26768764110b816...  P3 - Medium   \n",
       "2     [{'author': {'accountId': '5ade5093027e7a2ebfc...    P2 - High   \n",
       "3     [{'author': {'accountId': '5caee6ee6c3b6b270f4...    P2 - High   \n",
       "4     [{'author': {'accountId': '5dcdc9960e14000dd49...     P4 - Low   \n",
       "...                                                 ...          ...   \n",
       "5684  [{'author': {'accountId': '557058:138cc1fd-460...     P4 - Low   \n",
       "5685  [{'author': {'accountId': '557058:26d72d9d-812...    P2 - High   \n",
       "5686  [{'author': {'accountId': '5c893fecee0f2d70e23...  P3 - Medium   \n",
       "5687  [{'author': {'accountId': '5b7aea1fb96a5b58cd3...    P2 - High   \n",
       "5688  [{'author': {'accountId': '557058:08cf54a6-0a9...    P2 - High   \n",
       "\n",
       "                                                Summary Application  \n",
       "0     CERT|SailorAPP| On-board | Cabin Services |  I...  Sailor App  \n",
       "1     Counts in the parse tables are not matching be...    Crew VXP  \n",
       "2     Magnolia | KAFKA | Ship Side Events are not co...  Sailor App  \n",
       "3     VV-Prod-Ship | VM - Bulk uploaded successfully...    Crew VXP  \n",
       "4     DWP-QA-Spinner getting displayed in the top le...   eCommerce  \n",
       "...                                                 ...         ...  \n",
       "5684  Cabin Tablet | QA | \"Writer\" label is missing ...  Sailor App  \n",
       "5685        QA | Seaware Reservation event not produced  Sailor App  \n",
       "5686  SAPP | Cabin Tablet | QA | \"Power\" button of M...  Sailor App  \n",
       "5687  [Android] Camera isn't opened after clicking o...  Sailor App  \n",
       "5688  VV Sailor App | RTS | The porthole for securit...  Sailor App  \n",
       "\n",
       "[5689 rows x 6 columns]"
      ]
     },
     "execution_count": 125,
     "metadata": {},
     "output_type": "execute_result"
    }
   ],
   "source": [
    "df"
   ]
  },
  {
   "cell_type": "code",
   "execution_count": 126,
   "metadata": {},
   "outputs": [
    {
     "data": {
      "text/plain": [
       "2"
      ]
     },
     "execution_count": 126,
     "metadata": {},
     "output_type": "execute_result"
    }
   ],
   "source": [
    "df.duplicated().sum()"
   ]
  },
  {
   "cell_type": "code",
   "execution_count": 127,
   "metadata": {},
   "outputs": [
    {
     "data": {
      "text/html": [
       "<div>\n",
       "<style scoped>\n",
       "    .dataframe tbody tr th:only-of-type {\n",
       "        vertical-align: middle;\n",
       "    }\n",
       "\n",
       "    .dataframe tbody tr th {\n",
       "        vertical-align: top;\n",
       "    }\n",
       "\n",
       "    .dataframe thead th {\n",
       "        text-align: right;\n",
       "    }\n",
       "</style>\n",
       "<table border=\"1\" class=\"dataframe\">\n",
       "  <thead>\n",
       "    <tr style=\"text-align: right;\">\n",
       "      <th></th>\n",
       "      <th>Status</th>\n",
       "      <th>Description</th>\n",
       "      <th>Comments</th>\n",
       "      <th>Priority</th>\n",
       "      <th>Summary</th>\n",
       "      <th>Application</th>\n",
       "    </tr>\n",
       "  </thead>\n",
       "  <tbody>\n",
       "    <tr>\n",
       "      <th>1118</th>\n",
       "      <td>Invalid</td>\n",
       "      <td>test</td>\n",
       "      <td>[]</td>\n",
       "      <td>P3 - Medium</td>\n",
       "      <td>test exalate</td>\n",
       "      <td>Other</td>\n",
       "    </tr>\n",
       "    <tr>\n",
       "      <th>1310</th>\n",
       "      <td>Invalid</td>\n",
       "      <td>test</td>\n",
       "      <td>[]</td>\n",
       "      <td>P3 - Medium</td>\n",
       "      <td>test exalate</td>\n",
       "      <td>Other</td>\n",
       "    </tr>\n",
       "  </tbody>\n",
       "</table>\n",
       "</div>"
      ],
      "text/plain": [
       "       Status Description Comments     Priority       Summary Application\n",
       "1118  Invalid        test       []  P3 - Medium  test exalate       Other\n",
       "1310  Invalid        test       []  P3 - Medium  test exalate       Other"
      ]
     },
     "execution_count": 127,
     "metadata": {},
     "output_type": "execute_result"
    }
   ],
   "source": [
    "df[df.duplicated()]"
   ]
  },
  {
   "cell_type": "code",
   "execution_count": 128,
   "metadata": {},
   "outputs": [],
   "source": [
    "df = df.drop_duplicates()"
   ]
  },
  {
   "cell_type": "code",
   "execution_count": 129,
   "metadata": {},
   "outputs": [
    {
     "data": {
      "text/plain": [
       "Status          0\n",
       "Description     9\n",
       "Comments        0\n",
       "Priority        0\n",
       "Summary         0\n",
       "Application    10\n",
       "dtype: int64"
      ]
     },
     "execution_count": 129,
     "metadata": {},
     "output_type": "execute_result"
    }
   ],
   "source": [
    "df.isnull().sum()"
   ]
  },
  {
   "cell_type": "code",
   "execution_count": 130,
   "metadata": {},
   "outputs": [
    {
     "name": "stderr",
     "output_type": "stream",
     "text": [
      "c:\\Users\\Jyothi\\My_WorkSpace\\cigniti_usecase\\venv\\lib\\site-packages\\ipykernel_launcher.py:2: SettingWithCopyWarning: \n",
      "A value is trying to be set on a copy of a slice from a DataFrame\n",
      "\n",
      "See the caveats in the documentation: https://pandas.pydata.org/pandas-docs/stable/user_guide/indexing.html#returning-a-view-versus-a-copy\n",
      "  \n"
     ]
    }
   ],
   "source": [
    "#here there are null values for description column , but this is the major input, so we drop all the corresponding rows\n",
    "df.dropna(subset=['Description'],inplace=True)"
   ]
  },
  {
   "cell_type": "code",
   "execution_count": 131,
   "metadata": {},
   "outputs": [
    {
     "data": {
      "text/html": [
       "<div>\n",
       "<style scoped>\n",
       "    .dataframe tbody tr th:only-of-type {\n",
       "        vertical-align: middle;\n",
       "    }\n",
       "\n",
       "    .dataframe tbody tr th {\n",
       "        vertical-align: top;\n",
       "    }\n",
       "\n",
       "    .dataframe thead th {\n",
       "        text-align: right;\n",
       "    }\n",
       "</style>\n",
       "<table border=\"1\" class=\"dataframe\">\n",
       "  <thead>\n",
       "    <tr style=\"text-align: right;\">\n",
       "      <th></th>\n",
       "      <th>Status</th>\n",
       "      <th>Description</th>\n",
       "      <th>Comments</th>\n",
       "      <th>Priority</th>\n",
       "      <th>Summary</th>\n",
       "      <th>Application</th>\n",
       "    </tr>\n",
       "  </thead>\n",
       "  <tbody>\n",
       "    <tr>\n",
       "      <th>count</th>\n",
       "      <td>5678</td>\n",
       "      <td>5678</td>\n",
       "      <td>5678</td>\n",
       "      <td>5678</td>\n",
       "      <td>5678</td>\n",
       "      <td>5668</td>\n",
       "    </tr>\n",
       "    <tr>\n",
       "      <th>unique</th>\n",
       "      <td>2</td>\n",
       "      <td>5604</td>\n",
       "      <td>5272</td>\n",
       "      <td>4</td>\n",
       "      <td>5628</td>\n",
       "      <td>14</td>\n",
       "    </tr>\n",
       "    <tr>\n",
       "      <th>top</th>\n",
       "      <td>valid</td>\n",
       "      <td>Please check added video</td>\n",
       "      <td>[]</td>\n",
       "      <td>P2 - High</td>\n",
       "      <td>VV Prod | Booking website | Getting error for ...</td>\n",
       "      <td>Sailor App</td>\n",
       "    </tr>\n",
       "    <tr>\n",
       "      <th>freq</th>\n",
       "      <td>3271</td>\n",
       "      <td>17</td>\n",
       "      <td>407</td>\n",
       "      <td>2430</td>\n",
       "      <td>8</td>\n",
       "      <td>4144</td>\n",
       "    </tr>\n",
       "  </tbody>\n",
       "</table>\n",
       "</div>"
      ],
      "text/plain": [
       "       Status               Description Comments   Priority  \\\n",
       "count    5678                      5678     5678       5678   \n",
       "unique      2                      5604     5272          4   \n",
       "top     valid  Please check added video       []  P2 - High   \n",
       "freq     3271                        17      407       2430   \n",
       "\n",
       "                                                  Summary Application  \n",
       "count                                                5678        5668  \n",
       "unique                                               5628          14  \n",
       "top     VV Prod | Booking website | Getting error for ...  Sailor App  \n",
       "freq                                                    8        4144  "
      ]
     },
     "execution_count": 131,
     "metadata": {},
     "output_type": "execute_result"
    }
   ],
   "source": [
    "df.describe()"
   ]
  },
  {
   "cell_type": "code",
   "execution_count": 132,
   "metadata": {},
   "outputs": [
    {
     "data": {
      "text/plain": [
       "Sailor App      4144\n",
       "eCommerce        565\n",
       "Crew VXP         470\n",
       "CRM              175\n",
       "Other            118\n",
       "FirstMates        76\n",
       "Seaware Main      36\n",
       "Integrations      20\n",
       "NBX               20\n",
       "Reporting         16\n",
       "VV Site           14\n",
       "MXP               12\n",
       "Odysseus           1\n",
       "Fevo               1\n",
       "Name: Application, dtype: int64"
      ]
     },
     "execution_count": 132,
     "metadata": {},
     "output_type": "execute_result"
    }
   ],
   "source": [
    "df['Application'].value_counts()"
   ]
  },
  {
   "cell_type": "code",
   "execution_count": 133,
   "metadata": {},
   "outputs": [
    {
     "data": {
      "text/plain": [
       "10"
      ]
     },
     "execution_count": 133,
     "metadata": {},
     "output_type": "execute_result"
    }
   ],
   "source": [
    "df['Application'].isnull().sum()"
   ]
  },
  {
   "cell_type": "code",
   "execution_count": 134,
   "metadata": {},
   "outputs": [
    {
     "name": "stderr",
     "output_type": "stream",
     "text": [
      "c:\\Users\\Jyothi\\My_WorkSpace\\cigniti_usecase\\venv\\lib\\site-packages\\pandas\\core\\series.py:4536: SettingWithCopyWarning: \n",
      "A value is trying to be set on a copy of a slice from a DataFrame\n",
      "\n",
      "See the caveats in the documentation: https://pandas.pydata.org/pandas-docs/stable/user_guide/indexing.html#returning-a-view-versus-a-copy\n",
      "  downcast=downcast,\n"
     ]
    }
   ],
   "source": [
    "#let us replace null values with unknown\n",
    "df['Application'].fillna('unknown',inplace=True)"
   ]
  },
  {
   "cell_type": "code",
   "execution_count": 135,
   "metadata": {},
   "outputs": [
    {
     "name": "stdout",
     "output_type": "stream",
     "text": [
      "<class 'pandas.core.frame.DataFrame'>\n",
      "Int64Index: 5678 entries, 0 to 5688\n",
      "Data columns (total 6 columns):\n",
      " #   Column       Non-Null Count  Dtype \n",
      "---  ------       --------------  ----- \n",
      " 0   Status       5678 non-null   object\n",
      " 1   Description  5678 non-null   object\n",
      " 2   Comments     5678 non-null   object\n",
      " 3   Priority     5678 non-null   object\n",
      " 4   Summary      5678 non-null   object\n",
      " 5   Application  5678 non-null   object\n",
      "dtypes: object(6)\n",
      "memory usage: 310.5+ KB\n"
     ]
    }
   ],
   "source": [
    "df.info()"
   ]
  },
  {
   "cell_type": "code",
   "execution_count": 136,
   "metadata": {},
   "outputs": [
    {
     "data": {
      "text/plain": [
       "Index(['Status', 'Description', 'Comments', 'Priority', 'Summary',\n",
       "       'Application'],\n",
       "      dtype='object')"
      ]
     },
     "execution_count": 136,
     "metadata": {},
     "output_type": "execute_result"
    }
   ],
   "source": [
    "df.columns"
   ]
  },
  {
   "cell_type": "code",
   "execution_count": 137,
   "metadata": {},
   "outputs": [],
   "source": [
    "#let us see if there is any relation between status, priority & application\n",
    "#status,priority\n",
    "#create a contingency table and perform a chi-squred test of independence\n",
    "contingency_table_priority = pd.crosstab(df['Priority'],df['Status'])\n",
    "\n",
    "from scipy.stats import chi2_contingency\n",
    "chi2, p, dof, expected = chi2_contingency(contingency_table_priority)\n"
   ]
  },
  {
   "cell_type": "code",
   "execution_count": 138,
   "metadata": {},
   "outputs": [
    {
     "data": {
      "text/plain": [
       "9.693660540257826e-39"
      ]
     },
     "execution_count": 138,
     "metadata": {},
     "output_type": "execute_result"
    }
   ],
   "source": [
    "p"
   ]
  },
  {
   "cell_type": "code",
   "execution_count": 139,
   "metadata": {},
   "outputs": [],
   "source": [
    "#create a contingency table and perform a chi-squred test of independence\n",
    "contingency_table_application = pd.crosstab(df['Application'],df['Status'])\n",
    "\n",
    "chi2, p, dof, expected = chi2_contingency(contingency_table_application)\n",
    "\n"
   ]
  },
  {
   "cell_type": "code",
   "execution_count": 140,
   "metadata": {},
   "outputs": [
    {
     "data": {
      "text/plain": [
       "0.0"
      ]
     },
     "execution_count": 140,
     "metadata": {},
     "output_type": "execute_result"
    }
   ],
   "source": [
    "p"
   ]
  },
  {
   "cell_type": "code",
   "execution_count": null,
   "metadata": {},
   "outputs": [],
   "source": [
    "#here the p values obtained from chi2 test says that there is no dependence between status and priority and with application"
   ]
  },
  {
   "cell_type": "code",
   "execution_count": 141,
   "metadata": {},
   "outputs": [
    {
     "name": "stderr",
     "output_type": "stream",
     "text": [
      "c:\\Users\\Jyothi\\My_WorkSpace\\cigniti_usecase\\venv\\lib\\site-packages\\ipykernel_launcher.py:3: SettingWithCopyWarning: \n",
      "A value is trying to be set on a copy of a slice from a DataFrame.\n",
      "Try using .loc[row_indexer,col_indexer] = value instead\n",
      "\n",
      "See the caveats in the documentation: https://pandas.pydata.org/pandas-docs/stable/user_guide/indexing.html#returning-a-view-versus-a-copy\n",
      "  This is separate from the ipykernel package so we can avoid doing imports until\n"
     ]
    }
   ],
   "source": [
    "#combine description and summary column\n",
    "\n",
    "df['Description'] = df['Description']+ \" \"+df['Summary']"
   ]
  },
  {
   "cell_type": "code",
   "execution_count": 142,
   "metadata": {},
   "outputs": [
    {
     "name": "stderr",
     "output_type": "stream",
     "text": [
      "c:\\Users\\Jyothi\\My_WorkSpace\\cigniti_usecase\\venv\\lib\\site-packages\\pandas\\core\\frame.py:4174: SettingWithCopyWarning: \n",
      "A value is trying to be set on a copy of a slice from a DataFrame\n",
      "\n",
      "See the caveats in the documentation: https://pandas.pydata.org/pandas-docs/stable/user_guide/indexing.html#returning-a-view-versus-a-copy\n",
      "  errors=errors,\n"
     ]
    }
   ],
   "source": [
    "df.drop(['Summary'],axis=1,inplace=True)"
   ]
  },
  {
   "cell_type": "code",
   "execution_count": 143,
   "metadata": {},
   "outputs": [
    {
     "data": {
      "text/html": [
       "<div>\n",
       "<style scoped>\n",
       "    .dataframe tbody tr th:only-of-type {\n",
       "        vertical-align: middle;\n",
       "    }\n",
       "\n",
       "    .dataframe tbody tr th {\n",
       "        vertical-align: top;\n",
       "    }\n",
       "\n",
       "    .dataframe thead th {\n",
       "        text-align: right;\n",
       "    }\n",
       "</style>\n",
       "<table border=\"1\" class=\"dataframe\">\n",
       "  <thead>\n",
       "    <tr style=\"text-align: right;\">\n",
       "      <th></th>\n",
       "      <th>Status</th>\n",
       "      <th>Description</th>\n",
       "      <th>Comments</th>\n",
       "      <th>Priority</th>\n",
       "      <th>Application</th>\n",
       "    </tr>\n",
       "  </thead>\n",
       "  <tbody>\n",
       "    <tr>\n",
       "      <th>0</th>\n",
       "      <td>Invalid</td>\n",
       "      <td>Build: PI7.6 FE + 8.2 BE Hotfix , App Version:...</td>\n",
       "      <td>[]</td>\n",
       "      <td>P3 - Medium</td>\n",
       "      <td>Sailor App</td>\n",
       "    </tr>\n",
       "    <tr>\n",
       "      <th>1</th>\n",
       "      <td>Invalid</td>\n",
       "      <td>Ship parse count for housekeeping requests:\\n ...</td>\n",
       "      <td>[{'author': {'accountId': '5e8b26768764110b816...</td>\n",
       "      <td>P3 - Medium</td>\n",
       "      <td>Crew VXP</td>\n",
       "    </tr>\n",
       "    <tr>\n",
       "      <th>2</th>\n",
       "      <td>Invalid</td>\n",
       "      <td>Hi [~accountid:5ade5093027e7a2ebfcbd97e] / [~a...</td>\n",
       "      <td>[{'author': {'accountId': '5ade5093027e7a2ebfc...</td>\n",
       "      <td>P2 - High</td>\n",
       "      <td>Sailor App</td>\n",
       "    </tr>\n",
       "    <tr>\n",
       "      <th>3</th>\n",
       "      <td>Invalid</td>\n",
       "      <td>Ship side team has successfully uploaded the s...</td>\n",
       "      <td>[{'author': {'accountId': '5caee6ee6c3b6b270f4...</td>\n",
       "      <td>P2 - High</td>\n",
       "      <td>Crew VXP</td>\n",
       "    </tr>\n",
       "    <tr>\n",
       "      <th>4</th>\n",
       "      <td>Invalid</td>\n",
       "      <td>Hit the application url and do the booking flo...</td>\n",
       "      <td>[{'author': {'accountId': '5dcdc9960e14000dd49...</td>\n",
       "      <td>P4 - Low</td>\n",
       "      <td>eCommerce</td>\n",
       "    </tr>\n",
       "    <tr>\n",
       "      <th>...</th>\n",
       "      <td>...</td>\n",
       "      <td>...</td>\n",
       "      <td>...</td>\n",
       "      <td>...</td>\n",
       "      <td>...</td>\n",
       "    </tr>\n",
       "    <tr>\n",
       "      <th>5684</th>\n",
       "      <td>valid</td>\n",
       "      <td>Steps to Reproduce:\\n\\n1) Launch the applicati...</td>\n",
       "      <td>[{'author': {'accountId': '557058:138cc1fd-460...</td>\n",
       "      <td>P4 - Low</td>\n",
       "      <td>Sailor App</td>\n",
       "    </tr>\n",
       "    <tr>\n",
       "      <th>5685</th>\n",
       "      <td>valid</td>\n",
       "      <td>For SailorId - '001g00000238syEAAQ' which has ...</td>\n",
       "      <td>[{'author': {'accountId': '557058:26d72d9d-812...</td>\n",
       "      <td>P2 - High</td>\n",
       "      <td>Sailor App</td>\n",
       "    </tr>\n",
       "    <tr>\n",
       "      <th>5686</th>\n",
       "      <td>valid</td>\n",
       "      <td>Steps:\\n1. Launch the build.\\n2. Navigate to M...</td>\n",
       "      <td>[{'author': {'accountId': '5c893fecee0f2d70e23...</td>\n",
       "      <td>P3 - Medium</td>\n",
       "      <td>Sailor App</td>\n",
       "    </tr>\n",
       "    <tr>\n",
       "      <th>5687</th>\n",
       "      <td>valid</td>\n",
       "      <td># Go to Settings# Click on Avatar# Select Make...</td>\n",
       "      <td>[{'author': {'accountId': '5b7aea1fb96a5b58cd3...</td>\n",
       "      <td>P2 - High</td>\n",
       "      <td>Sailor App</td>\n",
       "    </tr>\n",
       "    <tr>\n",
       "      <th>5688</th>\n",
       "      <td>valid</td>\n",
       "      <td>VV Sailor App | RTS | The porthole for securit...</td>\n",
       "      <td>[{'author': {'accountId': '557058:08cf54a6-0a9...</td>\n",
       "      <td>P2 - High</td>\n",
       "      <td>Sailor App</td>\n",
       "    </tr>\n",
       "  </tbody>\n",
       "</table>\n",
       "<p>5678 rows × 5 columns</p>\n",
       "</div>"
      ],
      "text/plain": [
       "       Status                                        Description  \\\n",
       "0     Invalid  Build: PI7.6 FE + 8.2 BE Hotfix , App Version:...   \n",
       "1     Invalid  Ship parse count for housekeeping requests:\\n ...   \n",
       "2     Invalid  Hi [~accountid:5ade5093027e7a2ebfcbd97e] / [~a...   \n",
       "3     Invalid  Ship side team has successfully uploaded the s...   \n",
       "4     Invalid  Hit the application url and do the booking flo...   \n",
       "...       ...                                                ...   \n",
       "5684    valid  Steps to Reproduce:\\n\\n1) Launch the applicati...   \n",
       "5685    valid  For SailorId - '001g00000238syEAAQ' which has ...   \n",
       "5686    valid  Steps:\\n1. Launch the build.\\n2. Navigate to M...   \n",
       "5687    valid  # Go to Settings# Click on Avatar# Select Make...   \n",
       "5688    valid  VV Sailor App | RTS | The porthole for securit...   \n",
       "\n",
       "                                               Comments     Priority  \\\n",
       "0                                                    []  P3 - Medium   \n",
       "1     [{'author': {'accountId': '5e8b26768764110b816...  P3 - Medium   \n",
       "2     [{'author': {'accountId': '5ade5093027e7a2ebfc...    P2 - High   \n",
       "3     [{'author': {'accountId': '5caee6ee6c3b6b270f4...    P2 - High   \n",
       "4     [{'author': {'accountId': '5dcdc9960e14000dd49...     P4 - Low   \n",
       "...                                                 ...          ...   \n",
       "5684  [{'author': {'accountId': '557058:138cc1fd-460...     P4 - Low   \n",
       "5685  [{'author': {'accountId': '557058:26d72d9d-812...    P2 - High   \n",
       "5686  [{'author': {'accountId': '5c893fecee0f2d70e23...  P3 - Medium   \n",
       "5687  [{'author': {'accountId': '5b7aea1fb96a5b58cd3...    P2 - High   \n",
       "5688  [{'author': {'accountId': '557058:08cf54a6-0a9...    P2 - High   \n",
       "\n",
       "     Application  \n",
       "0     Sailor App  \n",
       "1       Crew VXP  \n",
       "2     Sailor App  \n",
       "3       Crew VXP  \n",
       "4      eCommerce  \n",
       "...          ...  \n",
       "5684  Sailor App  \n",
       "5685  Sailor App  \n",
       "5686  Sailor App  \n",
       "5687  Sailor App  \n",
       "5688  Sailor App  \n",
       "\n",
       "[5678 rows x 5 columns]"
      ]
     },
     "execution_count": 143,
     "metadata": {},
     "output_type": "execute_result"
    }
   ],
   "source": [
    "df"
   ]
  },
  {
   "cell_type": "code",
   "execution_count": 144,
   "metadata": {},
   "outputs": [
    {
     "data": {
      "text/plain": [
       "<AxesSubplot:xlabel='Status'>"
      ]
     },
     "execution_count": 144,
     "metadata": {},
     "output_type": "execute_result"
    },
    {
     "data": {
      "image/png": "[encoded data removed]",
      "text/plain": [
       "<Figure size 1400x600 with 1 Axes>"
      ]
     },
     "metadata": {},
     "output_type": "display_data"
    }
   ],
   "source": [
    "import matplotlib.pyplot as plt\n",
    "%matplotlib inline\n",
    "\n",
    "fig = plt.figure(figsize=(14,6))\n",
    "df.groupby('Status')['Status'].count().sort_values().plot.bar()"
   ]
  },
  {
   "cell_type": "code",
   "execution_count": 145,
   "metadata": {},
   "outputs": [
    {
     "data": {
      "text/plain": [
       "valid      3271\n",
       "Invalid    2407\n",
       "Name: Status, dtype: int64"
      ]
     },
     "execution_count": 145,
     "metadata": {},
     "output_type": "execute_result"
    }
   ],
   "source": [
    "df['Status'].value_counts()"
   ]
  },
  {
   "cell_type": "code",
   "execution_count": 149,
   "metadata": {},
   "outputs": [],
   "source": [
    "data = df"
   ]
  },
  {
   "cell_type": "code",
   "execution_count": 150,
   "metadata": {},
   "outputs": [
    {
     "name": "stderr",
     "output_type": "stream",
     "text": [
      "c:\\Users\\Jyothi\\My_WorkSpace\\cigniti_usecase\\venv\\lib\\site-packages\\ipykernel_launcher.py:1: SettingWithCopyWarning: \n",
      "A value is trying to be set on a copy of a slice from a DataFrame.\n",
      "Try using .loc[row_indexer,col_indexer] = value instead\n",
      "\n",
      "See the caveats in the documentation: https://pandas.pydata.org/pandas-docs/stable/user_guide/indexing.html#returning-a-view-versus-a-copy\n",
      "  \"\"\"Entry point for launching an IPython kernel.\n"
     ]
    },
    {
     "data": {
      "text/html": [
       "<div>\n",
       "<style scoped>\n",
       "    .dataframe tbody tr th:only-of-type {\n",
       "        vertical-align: middle;\n",
       "    }\n",
       "\n",
       "    .dataframe tbody tr th {\n",
       "        vertical-align: top;\n",
       "    }\n",
       "\n",
       "    .dataframe thead th {\n",
       "        text-align: right;\n",
       "    }\n",
       "</style>\n",
       "<table border=\"1\" class=\"dataframe\">\n",
       "  <thead>\n",
       "    <tr style=\"text-align: right;\">\n",
       "      <th></th>\n",
       "      <th>Description</th>\n",
       "      <th>word_count</th>\n",
       "    </tr>\n",
       "  </thead>\n",
       "  <tbody>\n",
       "    <tr>\n",
       "      <th>0</th>\n",
       "      <td>Build: PI7.6 FE + 8.2 BE Hotfix , App Version:...</td>\n",
       "      <td>124</td>\n",
       "    </tr>\n",
       "    <tr>\n",
       "      <th>1</th>\n",
       "      <td>Ship parse count for housekeeping requests:\\n ...</td>\n",
       "      <td>43</td>\n",
       "    </tr>\n",
       "    <tr>\n",
       "      <th>2</th>\n",
       "      <td>Hi [~accountid:5ade5093027e7a2ebfcbd97e] / [~a...</td>\n",
       "      <td>89</td>\n",
       "    </tr>\n",
       "    <tr>\n",
       "      <th>3</th>\n",
       "      <td>Ship side team has successfully uploaded the s...</td>\n",
       "      <td>46</td>\n",
       "    </tr>\n",
       "    <tr>\n",
       "      <th>4</th>\n",
       "      <td>Hit the application url and do the booking flo...</td>\n",
       "      <td>44</td>\n",
       "    </tr>\n",
       "  </tbody>\n",
       "</table>\n",
       "</div>"
      ],
      "text/plain": [
       "                                         Description  word_count\n",
       "0  Build: PI7.6 FE + 8.2 BE Hotfix , App Version:...         124\n",
       "1  Ship parse count for housekeeping requests:\\n ...          43\n",
       "2  Hi [~accountid:5ade5093027e7a2ebfcbd97e] / [~a...          89\n",
       "3  Ship side team has successfully uploaded the s...          46\n",
       "4  Hit the application url and do the booking flo...          44"
      ]
     },
     "execution_count": 150,
     "metadata": {},
     "output_type": "execute_result"
    }
   ],
   "source": [
    "df['word_count']=df['Description'].apply(lambda x: len(str(x).split(\" \")))\n",
    "df[['Description','word_count']].head()"
   ]
  },
  {
   "cell_type": "code",
   "execution_count": 151,
   "metadata": {},
   "outputs": [
    {
     "data": {
      "text/plain": [
       "count    5678.000000\n",
       "mean       81.775625\n",
       "std        73.181102\n",
       "min         2.000000\n",
       "25%        45.000000\n",
       "50%        70.000000\n",
       "75%       105.000000\n",
       "max      3278.000000\n",
       "Name: word_count, dtype: float64"
      ]
     },
     "execution_count": 151,
     "metadata": {},
     "output_type": "execute_result"
    }
   ],
   "source": [
    "#descriptive statistics of wordcount\n",
    "df['word_count'].describe()"
   ]
  },
  {
   "cell_type": "code",
   "execution_count": 152,
   "metadata": {},
   "outputs": [
    {
     "data": {
      "text/plain": [
       "0            Build:\n",
       "1             PI7.6\n",
       "2                FE\n",
       "3                 +\n",
       "4               8.2\n",
       "            ...    \n",
       "464317         only\n",
       "464318    partially\n",
       "464319    completed\n",
       "464320    emergency\n",
       "464321      contact\n",
       "Length: 464322, dtype: object"
      ]
     },
     "execution_count": 152,
     "metadata": {},
     "output_type": "execute_result"
    }
   ],
   "source": [
    "#identify the most commonn words\n",
    "pd.Series(\" \".join(df['Description']).split(\" \"))"
   ]
  },
  {
   "cell_type": "code",
   "execution_count": 153,
   "metadata": {},
   "outputs": [
    {
     "data": {
      "text/plain": [
       "the    21560\n",
       "       17921\n",
       "to     14060\n",
       "is      9102\n",
       "and     8653\n",
       "on      8177\n",
       "in      7581\n",
       "not     5257\n",
       "for     4854\n",
       "|       4536\n",
       "dtype: int64"
      ]
     },
     "execution_count": 153,
     "metadata": {},
     "output_type": "execute_result"
    }
   ],
   "source": [
    "pd.Series(\" \".join(df['Description']).split(\" \")).value_counts()[:10]"
   ]
  },
  {
   "cell_type": "code",
   "execution_count": 154,
   "metadata": {},
   "outputs": [
    {
     "data": {
      "text/plain": [
       "*Precondition*:User                                                               1\n",
       "RTS_Text                                                                          1\n",
       "7.3\\n\\n+Issue:+\\n\\nStatus                                                         1\n",
       "need?                                                                             1\n",
       "2:\\n1.                                                                            1\n",
       "behavior:\\n\\n*                                                                    1\n",
       "https://int.virginvoyages.com/svc/rts-bff/traveldocuments/ocr/passport\\nStatus    1\n",
       "Entertainment->Series\\n3.                                                         1\n",
       "venues(Eateries)\\n*Expected-*                                                     1\n",
       "!Flight_Number_flight_validation.png|thumbnail!                                   1\n",
       "dtype: int64"
      ]
     },
     "execution_count": 154,
     "metadata": {},
     "output_type": "execute_result"
    }
   ],
   "source": [
    "#identify the uncommon words\n",
    "pd.Series(\" \".join(df['Description']).split(\" \")).value_counts()[-10:]"
   ]
  },
  {
   "cell_type": "code",
   "execution_count": 155,
   "metadata": {},
   "outputs": [
    {
     "name": "stderr",
     "output_type": "stream",
     "text": [
      "[nltk_data] Downloading package stopwords to\n",
      "[nltk_data]     C:\\Users\\Jyothi\\AppData\\Roaming\\nltk_data...\n",
      "[nltk_data]   Package stopwords is already up-to-date!\n",
      "[nltk_data] Downloading package wordnet to\n",
      "[nltk_data]     C:\\Users\\Jyothi\\AppData\\Roaming\\nltk_data...\n",
      "[nltk_data]   Package wordnet is already up-to-date!\n",
      "[nltk_data] Downloading package punkt to\n",
      "[nltk_data]     C:\\Users\\Jyothi\\AppData\\Roaming\\nltk_data...\n",
      "[nltk_data]   Package punkt is already up-to-date!\n"
     ]
    },
    {
     "data": {
      "text/plain": [
       "True"
      ]
     },
     "execution_count": 155,
     "metadata": {},
     "output_type": "execute_result"
    }
   ],
   "source": [
    "import string\n",
    "import re\n",
    "import nltk\n",
    "from nltk.tokenize import word_tokenize\n",
    "from nltk.corpus import stopwords\n",
    "from nltk.stem import WordNetLemmatizer\n",
    "nltk.download('stopwords')\n",
    "nltk.download('wordnet')\n",
    "nltk.download('punkt')\n"
   ]
  },
  {
   "cell_type": "code",
   "execution_count": 173,
   "metadata": {},
   "outputs": [
    {
     "name": "stdout",
     "output_type": "stream",
     "text": [
      "['i', 'me', 'my', 'myself', 'we', 'our', 'ours', 'ourselves', 'you', \"you're\", \"you've\", \"you'll\", \"you'd\", 'your', 'yours', 'yourself', 'yourselves', 'he', 'him', 'his', 'himself', 'she', \"she's\", 'her', 'hers', 'herself', 'it', \"it's\", 'its', 'itself', 'they', 'them', 'their', 'theirs', 'themselves', 'what', 'which', 'who', 'whom', 'this', 'that', \"that'll\", 'these', 'those', 'am', 'is', 'are', 'was', 'were', 'be', 'been', 'being', 'have', 'has', 'had', 'having', 'do', 'does', 'did', 'doing', 'a', 'an', 'the', 'and', 'but', 'if', 'or', 'because', 'as', 'until', 'while', 'of', 'at', 'by', 'for', 'with', 'about', 'against', 'between', 'into', 'through', 'during', 'before', 'after', 'above', 'below', 'to', 'from', 'up', 'down', 'in', 'out', 'on', 'off', 'over', 'under', 'again', 'further', 'then', 'once', 'here', 'there', 'when', 'where', 'why', 'how', 'all', 'any', 'both', 'each', 'few', 'more', 'most', 'other', 'some', 'such', 'no', 'nor', 'not', 'only', 'own', 'same', 'so', 'than', 'too', 'very', 's', 't', 'can', 'will', 'just', 'don', \"don't\", 'should', \"should've\", 'now', 'd', 'll', 'm', 'o', 're', 've', 'y', 'ain', 'aren', \"aren't\", 'couldn', \"couldn't\", 'didn', \"didn't\", 'doesn', \"doesn't\", 'hadn', \"hadn't\", 'hasn', \"hasn't\", 'haven', \"haven't\", 'isn', \"isn't\", 'ma', 'mightn', \"mightn't\", 'mustn', \"mustn't\", 'needn', \"needn't\", 'shan', \"shan't\", 'shouldn', \"shouldn't\", 'wasn', \"wasn't\", 'weren', \"weren't\", 'won', \"won't\", 'wouldn', \"wouldn't\"]\n"
     ]
    }
   ],
   "source": [
    "stop_words = nltk.corpus.stopwords.words(\"english\")\n",
    "print(stop_words)"
   ]
  },
  {
   "cell_type": "code",
   "execution_count": 174,
   "metadata": {},
   "outputs": [],
   "source": [
    "#there are few words in the stopwords list that we might actually require - for ex: not, shouldnot etc,\n",
    "#its better to remove them from the stopwords list\n",
    "\n",
    "not_words = ['not', 'no', 'nor', 'don', \"don't\", 'should', \"should've\", 'aren', \"aren't\", 'couldn', \"couldn't\", 'didn', \"didn't\", 'doesn', \"doesn't\", 'hadn', \"hadn't\", 'hasn', \"hasn't\", 'haven', \"haven't\", 'isn', \"isn't\", 'mightn', \"mightn't\", 'mustn', \"mustn't\", 'needn', \"needn't\", 'shan', \"shan't\", 'shouldn', \"shouldn't\", 'wasn', \"wasn't\", 'weren', \"weren't\", 'won', \"won't\", 'wouldn', \"wouldn't\"]"
   ]
  },
  {
   "cell_type": "code",
   "execution_count": 175,
   "metadata": {},
   "outputs": [],
   "source": [
    "#remove not words from stopwords list\n",
    "for word in not_words:\n",
    "    stop_words.remove(word)"
   ]
  },
  {
   "cell_type": "code",
   "execution_count": 176,
   "metadata": {},
   "outputs": [],
   "source": [
    "#definig custom stopwords list\n",
    "\n",
    "#creating a list of custom stopwords\n",
    "newStopwords = ['image','png','thumbnail']\n",
    "stop_words.extend(newStopwords)\n"
   ]
  },
  {
   "cell_type": "code",
   "execution_count": 177,
   "metadata": {},
   "outputs": [],
   "source": [
    "stop_words = [item.lower() for item in stop_words]"
   ]
  },
  {
   "cell_type": "code",
   "execution_count": 178,
   "metadata": {},
   "outputs": [],
   "source": [
    "#Convert the stopwords list to a set for faster membership checking\n",
    "stop_words = set(stop_words)"
   ]
  },
  {
   "cell_type": "code",
   "execution_count": 179,
   "metadata": {},
   "outputs": [],
   "source": [
    "#function for preprocessing the data\n",
    "\n",
    "def remove_urls(text):\n",
    "    new_text = \" \".join(re.sub(\"(@[A-Za-z0-9]+)|([^0-9A-Za-z \\t])|(\\w+:\\/\\/\\S+)\",\" \",text).split())\n",
    "    return new_text\n",
    "\n",
    "#make all text lower case\n",
    "def text_lowercase(text):\n",
    "    return text.lower()\n",
    "\n",
    "#remove numbers\n",
    "def remove_numbers(text):\n",
    "    result = re.sub(r'\\d+','',text)\n",
    "    return result\n",
    "\n",
    "#remove punctuation\n",
    "def remove_punctuation(text):\n",
    "    translator = str.maketrans('','',string.punctuation)\n",
    "    return text.translate(translator)\n",
    "\n",
    "#tokenize\n",
    "def tokenize(text):\n",
    "    text = word_tokenize(text)\n",
    "    return text\n",
    "\n",
    "#remove stop words\n",
    "def remove_stopwords(text):\n",
    "    text = [i for i in text if not i in stop_words]\n",
    "    return text\n",
    "\n",
    "#lemmatize\n",
    "lemmatizer = WordNetLemmatizer()\n",
    "def lemmatize(text):\n",
    "    text = [lemmatizer.lemmatize(token) for token in text]\n",
    "    return text\n",
    "\n",
    "\n",
    "#function to handle all the above functions\n",
    "def preprocessing(text):\n",
    "    text = text_lowercase(text)\n",
    "    text = remove_urls(text)\n",
    "    text = remove_numbers(text)\n",
    "    text = remove_punctuation(text)\n",
    "    text = tokenize(text)\n",
    "    text = remove_stopwords(text)\n",
    "    text = lemmatize(text)\n",
    "    \n",
    "    text = ' '.join(text)\n",
    "    return text"
   ]
  },
  {
   "cell_type": "code",
   "execution_count": 180,
   "metadata": {},
   "outputs": [
    {
     "name": "stderr",
     "output_type": "stream",
     "text": [
      "c:\\Users\\Jyothi\\My_WorkSpace\\cigniti_usecase\\venv\\lib\\site-packages\\ipykernel_launcher.py:8: SettingWithCopyWarning: \n",
      "A value is trying to be set on a copy of a slice from a DataFrame.\n",
      "Try using .loc[row_indexer,col_indexer] = value instead\n",
      "\n",
      "See the caveats in the documentation: https://pandas.pydata.org/pandas-docs/stable/user_guide/indexing.html#returning-a-view-versus-a-copy\n",
      "  \n"
     ]
    }
   ],
   "source": [
    "#there are many word patterns which are not useful, we can now remove them\n",
    "#remove [~accountid:5ade5093027e7a2ebfcbd97e] \n",
    "# Define the pattern to match\n",
    "pattern = r'\\[~accountid:.*\\]'\n",
    "\n",
    "# Define the replacement string\n",
    "replacement = ' '\n",
    "df['Description']=df['Description'].apply(lambda x: re.sub(pattern,replacement,str(x)))"
   ]
  },
  {
   "cell_type": "code",
   "execution_count": 181,
   "metadata": {},
   "outputs": [
    {
     "name": "stderr",
     "output_type": "stream",
     "text": [
      "c:\\Users\\Jyothi\\My_WorkSpace\\cigniti_usecase\\venv\\lib\\site-packages\\ipykernel_launcher.py:5: SettingWithCopyWarning: \n",
      "A value is trying to be set on a copy of a slice from a DataFrame.\n",
      "Try using .loc[row_indexer,col_indexer] = value instead\n",
      "\n",
      "See the caveats in the documentation: https://pandas.pydata.org/pandas-docs/stable/user_guide/indexing.html#returning-a-view-versus-a-copy\n",
      "  \"\"\"\n"
     ]
    }
   ],
   "source": [
    "#now replace this pattern [^0-02-04-79c6bd14fa3611bdbf56283c4977c5c507deff3707beb53620152564aed2fe1f_ff4f204b.mp4] \n",
    "\n",
    "pattern = r'\\[([^\\]]+)\\]\\.mp4]'\n",
    "replacement = ' '\n",
    "df['Description']=df['Description'].apply(lambda x: re.sub(pattern,replacement,str(x)))"
   ]
  },
  {
   "cell_type": "code",
   "execution_count": 182,
   "metadata": {},
   "outputs": [
    {
     "name": "stderr",
     "output_type": "stream",
     "text": [
      "c:\\Users\\Jyothi\\My_WorkSpace\\cigniti_usecase\\venv\\lib\\site-packages\\ipykernel_launcher.py:5: SettingWithCopyWarning: \n",
      "A value is trying to be set on a copy of a slice from a DataFrame.\n",
      "Try using .loc[row_indexer,col_indexer] = value instead\n",
      "\n",
      "See the caveats in the documentation: https://pandas.pydata.org/pandas-docs/stable/user_guide/indexing.html#returning-a-view-versus-a-copy\n",
      "  \"\"\"\n"
     ]
    }
   ],
   "source": [
    "#remove email ids\n",
    "# Regular expression pattern to match an email address-> porter.love@yandex.com\n",
    "pattern = r'\\b[A-Za-z0-9._%+-]+@[A-Za-z0-9.-]+\\.[A-Z|a-z]{2,}\\b'\n",
    "replacement = \" \"\n",
    "df['Description']=df['Description'].apply(lambda x: re.sub(pattern,replacement,str(x)))"
   ]
  },
  {
   "cell_type": "code",
   "execution_count": 167,
   "metadata": {},
   "outputs": [
    {
     "name": "stderr",
     "output_type": "stream",
     "text": [
      "c:\\Users\\Jyothi\\My_WorkSpace\\cigniti_usecase\\venv\\lib\\site-packages\\ipykernel_launcher.py:9: SettingWithCopyWarning: \n",
      "A value is trying to be set on a copy of a slice from a DataFrame.\n",
      "Try using .loc[row_indexer,col_indexer] = value instead\n",
      "\n",
      "See the caveats in the documentation: https://pandas.pydata.org/pandas-docs/stable/user_guide/indexing.html#returning-a-view-versus-a-copy\n",
      "  if __name__ == \"__main__\":\n"
     ]
    }
   ],
   "source": [
    "#lets put the text column through this preprocessing pipeline\n",
    "\n",
    "pp_text_train = [] #preprocessed text column\n",
    "\n",
    "for text_data in df['Description']:\n",
    "    pp_text_data = preprocessing(text_data)\n",
    "    pp_text_train.append(pp_text_data)\n",
    "    \n",
    "df['Processed Text'] = pp_text_train #add the preprocessed text as a column"
   ]
  },
  {
   "cell_type": "code",
   "execution_count": 168,
   "metadata": {},
   "outputs": [
    {
     "data": {
      "text/plain": [
       "'hi getting event log kibana ship side however getting shore side causing data mismatch cm e please get checked thanks dev shore dev ship event log last day int shore int ship event log last day cert shore cert ship event log last day example shore razzle dazzle event json magnolia kafka ship side event coming'"
      ]
     },
     "execution_count": 168,
     "metadata": {},
     "output_type": "execute_result"
    }
   ],
   "source": [
    "df['Processed Text'][2]"
   ]
  },
  {
   "cell_type": "code",
   "execution_count": 183,
   "metadata": {},
   "outputs": [
    {
     "data": {
      "text/plain": [
       "0       build pi fe hotfix app version device android ...\n",
       "1       ship parse count housekeeping request image pn...\n",
       "2       hi getting event log kibana ship side however ...\n",
       "3       ship side team successfully uploaded sheet vis...\n",
       "4       hit application url booking flow actual result...\n",
       "                              ...                        \n",
       "5684    step reproduce launch application navigate ent...\n",
       "5685    sailorid gsyeaaq booking id updated email via ...\n",
       "5686    step launch build navigate movie entertainment...\n",
       "5687    go setting click avatar select make photo came...\n",
       "5688    vv sailor app rts porthole security pregnancy ...\n",
       "Name: Processed Text, Length: 5678, dtype: object"
      ]
     },
     "execution_count": 183,
     "metadata": {},
     "output_type": "execute_result"
    }
   ],
   "source": [
    "df['Processed Text']"
   ]
  },
  {
   "cell_type": "code",
   "execution_count": 184,
   "metadata": {},
   "outputs": [],
   "source": [
    "df[['Processed Text','Description']].to_excel('Processed_text1.xlsx')"
   ]
  },
  {
   "cell_type": "code",
   "execution_count": 191,
   "metadata": {},
   "outputs": [],
   "source": [
    "df = df.astype(str)"
   ]
  },
  {
   "cell_type": "code",
   "execution_count": 194,
   "metadata": {},
   "outputs": [
    {
     "name": "stdout",
     "output_type": "stream",
     "text": [
      "sailor 8247\n",
      "app 4838\n",
      "page 4216\n",
      "result 3308\n",
      "screen 3242\n",
      "expected 3177\n",
      "displayed 2723\n",
      "voyage 2682\n",
      "actual 2663\n",
      "step 2662\n",
      "booking 2435\n",
      "user 2203\n",
      "click 2144\n",
      "detail 2128\n",
      "cabin 2125\n",
      "sailorapp 2101\n",
      "login 2069\n",
      "tap 1934\n",
      "reproduce 1817\n",
      "device 1809\n",
      "cert 1802\n",
      "build 1736\n",
      "reservation 1626\n",
      "button 1617\n",
      "go 1553\n",
      "issue 1546\n",
      "account 1523\n",
      "excursion 1496\n",
      "observe 1426\n",
      "launch 1385\n",
      "test 1359\n",
      "time 1328\n",
      "rts 1210\n",
      "name 1201\n",
      "vv 1189\n",
      "card 1128\n",
      "error 1122\n",
      "qa 1108\n",
      "select 1097\n",
      "able 1095\n",
      "payment 1083\n",
      "iphone 1037\n",
      "ship 1035\n",
      "please 1017\n",
      "navigate 1014\n",
      "credential 987\n",
      "day 986\n",
      "attached 986\n",
      "note 960\n",
      "shore 955\n",
      "android 954\n",
      "date 951\n",
      "id 938\n",
      "admin 937\n",
      "icon 934\n",
      "check 932\n",
      "sign 927\n",
      "see 912\n",
      "back 888\n",
      "message 888\n",
      "video 876\n",
      "setting 876\n",
      "application 873\n",
      "port 852\n",
      "email 849\n",
      "used 847\n",
      "number 837\n",
      "pre 829\n",
      "data 819\n",
      "open 818\n",
      "design 814\n",
      "field 807\n",
      "book 779\n",
      "log 775\n",
      "tablet 770\n",
      "section 764\n",
      "service 761\n",
      "contact 759\n",
      "text 756\n",
      "refer 753\n",
      "booked 753\n",
      "width 724\n",
      "status 718\n",
      "password 703\n",
      "event 701\n",
      "height 693\n",
      "tv 692\n",
      "screenshot 687\n",
      "filter 685\n",
      "notification 664\n",
      "task 661\n",
      "behavior 660\n",
      "ui 658\n",
      "content 658\n",
      "io 656\n",
      "option 649\n",
      "discover 640\n",
      "code 634\n",
      "showing 627\n",
      "getting 617\n"
     ]
    }
   ],
   "source": [
    "from sklearn.feature_extraction.text import TfidfVectorizer, CountVectorizer\n",
    "\n",
    "#top unigrams\n",
    "\n",
    "def get_top_n_words(corpus, n=None):\n",
    "    vec = CountVectorizer(stop_words=stop_words).fit(corpus)\n",
    "    bag_of_words = vec.transform(corpus)\n",
    "    sum_words = bag_of_words.sum(axis=0)\n",
    "    words_freq = [(word, sum_words[0,idx]) for word, idx in vec.vocabulary_.items()]\n",
    "    words_freq = sorted(words_freq, key= lambda x: x[1], reverse = True)\n",
    "    return words_freq[:n]\n",
    "\n",
    "common_words = get_top_n_words(df['Processed Text'],100)\n",
    "for word, freq in common_words:\n",
    "    print(word, freq)\n",
    "    \n",
    "df1 = pd.DataFrame(common_words, columns= ['Processed Text','count'])"
   ]
  },
  {
   "cell_type": "code",
   "execution_count": 195,
   "metadata": {},
   "outputs": [
    {
     "name": "stdout",
     "output_type": "stream",
     "text": [
      "sailor app 3183\n",
      "step reproduce 1773\n",
      "actual result 1493\n",
      "expected result 1468\n",
      "reproduce launch 971\n",
      "width height 666\n",
      "launch sailorapp 539\n",
      "device iphone 525\n",
      "observe behavior 489\n",
      "login sailorapp 475\n",
      "vv sailor 460\n",
      "shore thing 452\n",
      "pre cruise 433\n",
      "sailorapp login 430\n",
      "refer attachment 414\n",
      "cert sailor 414\n",
      "test data 408\n",
      "cabin tablet 402\n",
      "detail page 399\n",
      "login sailor 376\n",
      "cabin tv 373\n",
      "reproduce login 350\n",
      "iphone build 343\n",
      "cert sailorapp 336\n",
      "note refer 317\n",
      "travel document 308\n",
      "app qa 293\n",
      "infinite loading 289\n",
      "home page 281\n",
      "shore excursion 279\n",
      "build cert 275\n",
      "behavior actual 273\n",
      "launch sailor 265\n",
      "credential admin 259\n",
      "existing account 258\n",
      "error message 253\n",
      "sailor detail 248\n",
      "book excursion 247\n",
      "sailor able 244\n",
      "attached recording 238\n",
      "payment method 238\n",
      "qa sailorapp 235\n",
      "valid credential 234\n",
      "primary sailor 232\n",
      "reservation number 224\n",
      "account setting 223\n",
      "user able 222\n",
      "sailorapp existing 219\n",
      "build used 219\n",
      "refer attached 217\n",
      "please find 216\n",
      "data used 216\n",
      "emergency contact 209\n",
      "device used 209\n",
      "contact detail 208\n",
      "time slot 206\n",
      "please refer 198\n",
      "un pw 195\n",
      "crew app 191\n",
      "page expected 190\n",
      "cruise homepage 184\n",
      "used iphone 181\n",
      "choose voyage 180\n",
      "reservation linked 180\n",
      "back button 179\n",
      "voyage setting 178\n",
      "go rts 177\n",
      "sailor service 176\n",
      "attached screen 176\n",
      "landing page 175\n",
      "pif reservation 175\n",
      "find attached 171\n",
      "pre condition 167\n",
      "page click 166\n",
      "voyage contract 165\n",
      "summary page 162\n",
      "username password 162\n",
      "result sailor 160\n",
      "page actual 159\n",
      "sailor tap 158\n",
      "page displayed 156\n",
      "health check 156\n",
      "admin reservation 152\n",
      "tab assigner 152\n",
      "credit card 151\n",
      "account pif 151\n",
      "install cabin 151\n",
      "screen expected 149\n",
      "expected experience 149\n",
      "discover port 149\n",
      "precondition sailor 148\n",
      "listing page 148\n",
      "rts travel 145\n",
      "message displayed 144\n",
      "switch voyage 143\n",
      "device android 142\n",
      "step aboard 142\n",
      "connect booking 142\n",
      "device tested 138\n",
      "app login 137\n"
     ]
    }
   ],
   "source": [
    "#top bigrams\n",
    "\n",
    "def get_top_n_bigram(corpus, n=None):\n",
    "    vec = CountVectorizer(ngram_range=(2,2),stop_words=stop_words).fit(corpus)\n",
    "    bag_of_words = vec.transform(corpus)\n",
    "    sum_words = bag_of_words.sum(axis=0)\n",
    "    words_freq = [(word, sum_words[0,idx]) for word, idx in vec.vocabulary_.items()]\n",
    "    words_freq = sorted(words_freq, key= lambda x: x[1], reverse = True)\n",
    "    return words_freq[:n]\n",
    "\n",
    "common_words = get_top_n_bigram(df['Processed Text'],100)\n",
    "for word, freq in common_words:\n",
    "    print(word, freq)\n",
    "    \n",
    "df2 = pd.DataFrame(common_words, columns= ['Processed Text','count'])"
   ]
  },
  {
   "cell_type": "code",
   "execution_count": 199,
   "metadata": {},
   "outputs": [
    {
     "name": "stdout",
     "output_type": "stream",
     "text": [
      "step reproduce launch 969\n",
      "reproduce launch sailorapp 487\n",
      "vv sailor app 435\n",
      "launch sailorapp login 416\n",
      "cert sailor app 408\n",
      "sailorapp login sailorapp 375\n",
      "login sailor app 357\n",
      "step reproduce login 347\n",
      "device iphone build 325\n",
      "observe behavior actual 251\n",
      "launch sailor app 251\n",
      "sailor app qa 240\n",
      "note refer attachment 232\n",
      "login sailorapp existing 217\n",
      "sailorapp existing account 215\n",
      "test data used 213\n",
      "reproduce launch sailor 196\n",
      "device used iphone 179\n",
      "please find attached 167\n",
      "pre cruise homepage 165\n",
      "reproduce login sailor 151\n",
      "account pif reservation 149\n",
      "iphone build cert 147\n",
      "existing account pif 138\n",
      "pif reservation linked 137\n",
      "refer attachment cert 134\n",
      "behavior actual result 130\n",
      "sailor app pre 128\n",
      "sailor app shipboard 127\n",
      "refer attachment qa 119\n",
      "refer attached recording 118\n",
      "build cert release 115\n",
      "screenshot width height 113\n",
      "cabin tv remote 113\n",
      "rts travel document 112\n",
      "reservation linked credential 112\n",
      "admin reservation number 111\n",
      "rpreplay final mp 109\n",
      "data used admin 108\n",
      "stage sailor app 104\n",
      "attachment cert sailorapp 104\n",
      "sailor app login 103\n",
      "linked credential admin 102\n",
      "precondition sailor done 99\n",
      "page expected result 98\n",
      "page actual result 98\n",
      "sailor done booking 98\n",
      "sailor app tap 95\n",
      "un pw test 94\n",
      "app pre cruise 93\n",
      "attached recording reference 93\n",
      "choose voyage page 93\n",
      "find attached screen 93\n",
      "attached screen recording 93\n",
      "please refer attached 92\n",
      "excursion listing page 92\n",
      "credential admin go 91\n",
      "ar booking management 90\n",
      "attachment qa sailorapp 88\n",
      "cert release network 87\n",
      "expected result sailor 87\n",
      "infinite loading occurs 86\n",
      "step reproduce navigate 84\n",
      "android step reproduce 84\n",
      "credential un pw 83\n",
      "pif payment option 83\n",
      "selecting pif payment 82\n",
      "cabin tv tablet 81\n",
      "screen actual result 80\n",
      "pre condition install 79\n",
      "condition install cabin 79\n",
      "build cabin tv 78\n",
      "device tested android 78\n",
      "screen expected result 77\n",
      "java org springframework 76\n",
      "note refer attached 75\n",
      "error message displayed 75\n",
      "sailor app mobile 75\n",
      "expected user able 74\n",
      "going infinite loading 73\n",
      "mp expected result 72\n",
      "sailor detail page 72\n",
      "install cabin tv 72\n",
      "hit application url 71\n",
      "cabin tv tab 71\n",
      "tv tab assigner 71\n",
      "tab assigner tv 71\n",
      "assigner tv install 71\n",
      "tv install cabin 71\n",
      "install cabin controller 71\n",
      "cabin controller tab 71\n",
      "controller tab assigner 71\n",
      "tab assigner tablet 71\n",
      "tv tablet release 70\n",
      "sailor app step 70\n",
      "pi build version 70\n",
      "qa sailor app 69\n",
      "sailor app using 69\n",
      "sprint pi build 69\n",
      "actual result sailor 68\n"
     ]
    }
   ],
   "source": [
    "#top trigrams\n",
    "\n",
    "def get_top_n_trigrams(corpus, n=None):\n",
    "    vec = CountVectorizer(ngram_range=(3,3),stop_words = stop_words).fit(corpus)\n",
    "    bag_of_words = vec.transform(corpus)\n",
    "    sum_words = bag_of_words.sum(axis=0)\n",
    "    words_freq = [(word, sum_words[0,idx]) for word, idx in vec.vocabulary_.items()]\n",
    "    words_freq = sorted(words_freq, key= lambda x: x[1], reverse = True)\n",
    "    return words_freq[:n]\n",
    "\n",
    "common_words = get_top_n_trigrams(df['Processed Text'],100)\n",
    "for word, freq in common_words:\n",
    "    print(word, freq)\n",
    "    \n",
    "df3 = pd.DataFrame(common_words, columns= ['Processed Text','count'])"
   ]
  },
  {
   "cell_type": "code",
   "execution_count": 201,
   "metadata": {},
   "outputs": [
    {
     "data": {
      "image/png": "[encoded data removed]",
      "text/plain": [
       "<Figure size 800x800 with 1 Axes>"
      ]
     },
     "metadata": {},
     "output_type": "display_data"
    }
   ],
   "source": [
    "#word cloud\n",
    "from wordcloud import WordCloud, STOPWORDS\n",
    "\n",
    "wordcloud = WordCloud(width=800, height=800, background_color='white', stopwords=stop_words, min_font_size=10).generate(str(df['Processed Text']))\n",
    "\n",
    "#plot the wordcloud image\n",
    "plt.figure(figsize = (8,8), facecolor = None)\n",
    "plt.imshow(wordcloud)\n",
    "plt.axis(\"off\")\n",
    "plt.tight_layout(pad =0)\n",
    "\n",
    "plt.show()\n"
   ]
  },
  {
   "cell_type": "code",
   "execution_count": null,
   "metadata": {},
   "outputs": [],
   "source": []
  },
  {
   "cell_type": "code",
   "execution_count": 202,
   "metadata": {},
   "outputs": [
    {
     "name": "stdout",
     "output_type": "stream",
     "text": [
      "      Status                                        Description  \\\n",
      "0          0  Build: PI7.6 FE + 8.2 BE Hotfix , App Version:...   \n",
      "1          0  Ship parse count for housekeeping requests:\\n ...   \n",
      "2          0  Hi  \\n\\nWe are not getting any Event Logs in K...   \n",
      "3          0  Ship side team has successfully uploaded the s...   \n",
      "4          0  Hit the application url and do the booking flo...   \n",
      "...      ...                                                ...   \n",
      "5684       1  Steps to Reproduce:\\n\\n1) Launch the applicati...   \n",
      "5685       1  For SailorId - '001g00000238syEAAQ' which has ...   \n",
      "5686       1  Steps:\\n1. Launch the build.\\n2. Navigate to M...   \n",
      "5687       1  # Go to Settings# Click on Avatar# Select Make...   \n",
      "5688       1  VV Sailor App | RTS | The porthole for securit...   \n",
      "\n",
      "                                               Comments  Priority  \\\n",
      "0                                                    []         2   \n",
      "1     [{'author': {'accountId': '5e8b26768764110b816...         2   \n",
      "2     [{'author': {'accountId': '5ade5093027e7a2ebfc...         1   \n",
      "3     [{'author': {'accountId': '5caee6ee6c3b6b270f4...         1   \n",
      "4     [{'author': {'accountId': '5dcdc9960e14000dd49...         3   \n",
      "...                                                 ...       ...   \n",
      "5684  [{'author': {'accountId': '557058:138cc1fd-460...         3   \n",
      "5685  [{'author': {'accountId': '557058:26d72d9d-812...         1   \n",
      "5686  [{'author': {'accountId': '5c893fecee0f2d70e23...         2   \n",
      "5687  [{'author': {'accountId': '5b7aea1fb96a5b58cd3...         1   \n",
      "5688  [{'author': {'accountId': '557058:08cf54a6-0a9...         1   \n",
      "\n",
      "      Application word_count  \\\n",
      "0              10        124   \n",
      "1               1         43   \n",
      "2              10         89   \n",
      "3               1         46   \n",
      "4              13         44   \n",
      "...           ...        ...   \n",
      "5684           10        113   \n",
      "5685           10         99   \n",
      "5686           10         79   \n",
      "5687           10         48   \n",
      "5688           10        119   \n",
      "\n",
      "                                         Processed Text  \n",
      "0     build pi fe hotfix app version device android ...  \n",
      "1     ship parse count housekeeping request image pn...  \n",
      "2     hi getting event log kibana ship side however ...  \n",
      "3     ship side team successfully uploaded sheet vis...  \n",
      "4     hit application url booking flow actual result...  \n",
      "...                                                 ...  \n",
      "5684  step reproduce launch application navigate ent...  \n",
      "5685  sailorid gsyeaaq booking id updated email via ...  \n",
      "5686  step launch build navigate movie entertainment...  \n",
      "5687  go setting click avatar select make photo came...  \n",
      "5688  vv sailor app rts porthole security pregnancy ...  \n",
      "\n",
      "[5678 rows x 7 columns]\n"
     ]
    }
   ],
   "source": [
    "#let us encode status, priority, application column\n",
    "from sklearn.preprocessing import LabelEncoder\n",
    "le = LabelEncoder()\n",
    "\n",
    "for col in ['Status','Priority','Application']:\n",
    "    df[col] = le.fit_transform(df[col])\n",
    "\n",
    "print(df)"
   ]
  },
  {
   "cell_type": "code",
   "execution_count": 203,
   "metadata": {},
   "outputs": [
    {
     "name": "stdout",
     "output_type": "stream",
     "text": [
      "<class 'pandas.core.frame.DataFrame'>\n",
      "Int64Index: 5678 entries, 0 to 5688\n",
      "Data columns (total 7 columns):\n",
      " #   Column          Non-Null Count  Dtype \n",
      "---  ------          --------------  ----- \n",
      " 0   Status          5678 non-null   int32 \n",
      " 1   Description     5678 non-null   object\n",
      " 2   Comments        5678 non-null   object\n",
      " 3   Priority        5678 non-null   int32 \n",
      " 4   Application     5678 non-null   int32 \n",
      " 5   word_count      5678 non-null   object\n",
      " 6   Processed Text  5678 non-null   object\n",
      "dtypes: int32(3), object(4)\n",
      "memory usage: 448.3+ KB\n"
     ]
    }
   ],
   "source": [
    "df.info()"
   ]
  },
  {
   "cell_type": "code",
   "execution_count": 226,
   "metadata": {},
   "outputs": [],
   "source": [
    "from sklearn.model_selection import train_test_split\n",
    "from sklearn.feature_extraction.text import TfidfTransformer\n",
    "\n",
    "X_train,X_test,y_train,y_test = train_test_split(df['Processed Text'],df['Status'],test_size=0.2,random_state=0)\n",
    "\n",
    "tfidf = TfidfVectorizer()\n",
    "\n",
    "# Fit and transform the text column in the training set\n",
    "X_train_tfidf = tfidf.fit_transform(X_train)\n",
    "\n",
    "# Transform the text column in the validation set\n",
    "X_test_tfidf = tfidf.transform(X_test)"
   ]
  },
  {
   "cell_type": "code",
   "execution_count": 227,
   "metadata": {},
   "outputs": [
    {
     "data": {
      "text/plain": [
       "array([[0., 0., 0., ..., 0., 0., 0.],\n",
       "       [0., 0., 0., ..., 0., 0., 0.],\n",
       "       [0., 0., 0., ..., 0., 0., 0.],\n",
       "       ...,\n",
       "       [0., 0., 0., ..., 0., 0., 0.],\n",
       "       [0., 0., 0., ..., 0., 0., 0.],\n",
       "       [0., 0., 0., ..., 0., 0., 0.]])"
      ]
     },
     "execution_count": 227,
     "metadata": {},
     "output_type": "execute_result"
    }
   ],
   "source": [
    "X_train_tfidf"
   ]
  },
  {
   "cell_type": "code",
   "execution_count": 258,
   "metadata": {},
   "outputs": [
    {
     "data": {
      "text/plain": [
       "LogisticRegression()"
      ]
     },
     "execution_count": 258,
     "metadata": {},
     "output_type": "execute_result"
    }
   ],
   "source": [
    "from sklearn.linear_model import LogisticRegression\n",
    "from sklearn.metrics import accuracy_score, precision_score, recall_score, f1_score,classification_report, confusion_matrix,auc,roc_curve\n",
    "\n",
    "lr = LogisticRegression()\n",
    "lr.fit(X_train_tfidf,y_train)\n"
   ]
  },
  {
   "cell_type": "code",
   "execution_count": 259,
   "metadata": {},
   "outputs": [],
   "source": [
    "#make predictions on the validation set\n",
    "y_pred = lr.predict(X_test_tfidf)"
   ]
  },
  {
   "cell_type": "code",
   "execution_count": 260,
   "metadata": {},
   "outputs": [
    {
     "data": {
      "text/plain": [
       "1136"
      ]
     },
     "execution_count": 260,
     "metadata": {},
     "output_type": "execute_result"
    }
   ],
   "source": [
    "len(y_pred)"
   ]
  },
  {
   "cell_type": "code",
   "execution_count": 261,
   "metadata": {},
   "outputs": [
    {
     "data": {
      "text/plain": [
       "1136"
      ]
     },
     "execution_count": 261,
     "metadata": {},
     "output_type": "execute_result"
    }
   ],
   "source": [
    "len(y_test)"
   ]
  },
  {
   "cell_type": "code",
   "execution_count": 262,
   "metadata": {},
   "outputs": [],
   "source": [
    "y_prob = lr.predict_proba(X_test_tfidf)"
   ]
  },
  {
   "cell_type": "code",
   "execution_count": 263,
   "metadata": {},
   "outputs": [
    {
     "data": {
      "text/plain": [
       "array([0.54564067, 0.72831334, 0.31235118, ..., 0.82015687, 0.66430173,\n",
       "       0.82036418])"
      ]
     },
     "execution_count": 263,
     "metadata": {},
     "output_type": "execute_result"
    }
   ],
   "source": [
    "lr.predict_proba(X_test_tfidf)[:,1]"
   ]
  },
  {
   "cell_type": "code",
   "execution_count": 264,
   "metadata": {},
   "outputs": [
    {
     "data": {
      "text/plain": [
       "array([[0.45435933, 0.54564067],\n",
       "       [0.27168666, 0.72831334],\n",
       "       [0.68764882, 0.31235118],\n",
       "       ...,\n",
       "       [0.17984313, 0.82015687],\n",
       "       [0.33569827, 0.66430173],\n",
       "       [0.17963582, 0.82036418]])"
      ]
     },
     "execution_count": 264,
     "metadata": {},
     "output_type": "execute_result"
    }
   ],
   "source": [
    "y_prob"
   ]
  },
  {
   "cell_type": "code",
   "execution_count": 265,
   "metadata": {},
   "outputs": [
    {
     "data": {
      "text/plain": [
       "0.8063380281690141"
      ]
     },
     "execution_count": 265,
     "metadata": {},
     "output_type": "execute_result"
    }
   ],
   "source": [
    "#evaluate the model's performance\n",
    "accuracy_score(y_pred,y_test)"
   ]
  },
  {
   "cell_type": "code",
   "execution_count": 267,
   "metadata": {},
   "outputs": [
    {
     "name": "stdout",
     "output_type": "stream",
     "text": [
      "              precision    recall  f1-score   support\n",
      "\n",
      "           0       0.86      0.65      0.74       480\n",
      "           1       0.78      0.92      0.85       656\n",
      "\n",
      "    accuracy                           0.81      1136\n",
      "   macro avg       0.82      0.79      0.79      1136\n",
      "weighted avg       0.81      0.81      0.80      1136\n",
      "\n",
      "Confusion Matrix: [[312 168]\n",
      " [ 52 604]]\n",
      "AUC: 0.7853658536585366\n"
     ]
    }
   ],
   "source": [
    "print(classification_report(y_test,y_pred))\n",
    "print('Confusion Matrix:',confusion_matrix(y_test, y_pred))\n",
    " \n",
    "fpr, tpr, thresholds = roc_curve(y_test, y_pred)\n",
    "roc_auc = auc(fpr, tpr)\n",
    "print('AUC:', roc_auc)"
   ]
  },
  {
   "cell_type": "code",
   "execution_count": 268,
   "metadata": {},
   "outputs": [
    {
     "data": {
      "text/plain": [
       "'author accountId 5e8b26768764110b816acbcd avatarUrls 48x48 24x24 16x16 32x32 displayName Shanthi K accountType atlassian self active True timeZone America New York created 2020 08 18T10 50 54 035 0400 updateAuthor accountId 5e8b26768764110b816acbcd avatarUrls 48x48 24x24 16x16 32x32 displayName Shanthi K accountType atlassian self active True timeZone America New York self jsdPublic True id 285993 body Cancelling the defect because there was slight delay expected between ship to shore sync Hence the count difference Now the data has caught up and the counts are matching updated 2020 08 18T10 50 54 035 0400'"
      ]
     },
     "execution_count": 268,
     "metadata": {},
     "output_type": "execute_result"
    }
   ],
   "source": [
    "#now we can read comments column\n",
    "\n",
    "remove_urls(df['Comments'][1])"
   ]
  },
  {
   "cell_type": "code",
   "execution_count": 269,
   "metadata": {},
   "outputs": [
    {
     "data": {
      "text/plain": [
       "[]"
      ]
     },
     "execution_count": 269,
     "metadata": {},
     "output_type": "execute_result"
    }
   ],
   "source": [
    "re.findall(r\"'body': '(.+?)', 'updated': '(?=[^{]*'body':|$)\", df['Comments'][2])\n"
   ]
  },
  {
   "cell_type": "code",
   "execution_count": 271,
   "metadata": {},
   "outputs": [],
   "source": [
    "results = re.findall(r\"'body': '(.+?)', 'updated': '(?=[^{]*'body':|$)\", \"'body': '[~accountid:5d4c220bc54e920cf3b81002] - can you have one of the Robocopies take a look?\\n\\nCC [~accountid:557058:f231f7c9-785e-482f-92b6-80fc5c21efde] ', 'updated': '2020-08-18T08:25:26.489-0400'}, {'author': {'accountId': '557058:f231f7c9-785e-482f-92b6-80fc5c21efde',\")\n",
    "\n",
    "for body in results:\n",
    "    print(\"Body:\", body)\n",
    "    print()"
   ]
  },
  {
   "cell_type": "code",
   "execution_count": 272,
   "metadata": {},
   "outputs": [
    {
     "data": {
      "text/plain": [
       "[]"
      ]
     },
     "execution_count": 272,
     "metadata": {},
     "output_type": "execute_result"
    }
   ],
   "source": [
    "results"
   ]
  },
  {
   "cell_type": "code",
   "execution_count": null,
   "metadata": {},
   "outputs": [],
   "source": []
  },
  {
   "attachments": {},
   "cell_type": "markdown",
   "metadata": {},
   "source": [
    "For the comments column, the main data of our interest is present between body and updated annotations, rest \n",
    "of the data present inside is not necessary .So we can use regex to extract the data by giving the pattern\n",
    "\n",
    "In this solution, the regular expression pattern \"'body':\\s*'([^']*)'[^}]*'updated':\\s*'([^']*)'\" matches all the occurrences of \"body\" and \"updated\" patterns in the input string, capturing the text value for each pattern using capturing groups. Specifically, the pattern matches:\n",
    "\n",
    "'body': - the literal string \"body\":\n",
    "\\s* - zero or more whitespace characters\n",
    "'([^']*)' - a capturing group that matches any sequence of zero or more non-quote characters, representing the text value for the \"body\" pattern\n",
    "[^}]* - any sequence of zero or more non-brace characters, representing any characters between the \"body\" and \"updated\" patterns\n",
    "'updated': - the literal string \"updated\":\n",
    "\\s* - zero or more whitespace characters\n",
    "'([^']*)' - a capturing group that matches any sequence of zero or more non-quote characters, representing the text value for the \"updated\" pattern"
   ]
  },
  {
   "cell_type": "code",
   "execution_count": 288,
   "metadata": {},
   "outputs": [],
   "source": [
    "pattern = r\"'body':\\s*'([^']*)'[^}]*'updated':\\s*'([^']*)'\"\n",
    "df['Comments_Text']= df['Comments'].apply(lambda x: [m[0] for m in re.findall(pattern, x)])"
   ]
  },
  {
   "cell_type": "code",
   "execution_count": 291,
   "metadata": {},
   "outputs": [],
   "source": [
    "#remove [~accountid:5ade5093027e7a2ebfcbd97e] \n",
    "# Define the pattern to match\n",
    "\n",
    "accountid_pattern = r\"\\[~accountid:[^\\]]*\\]\"\n",
    "\n",
    "# Define the replacement string\n",
    "replacement = ' '\n",
    "df['Comments_Text']=df['Comments_Text'].apply(lambda x: re.sub(accountid_pattern,replacement,str(x)))"
   ]
  },
  {
   "cell_type": "code",
   "execution_count": 292,
   "metadata": {},
   "outputs": [],
   "source": [
    "df[['Comments_Text','Comments']].to_excel(\"comments_text.xlsx\")"
   ]
  },
  {
   "cell_type": "code",
   "execution_count": 276,
   "metadata": {},
   "outputs": [
    {
     "name": "stdout",
     "output_type": "stream",
     "text": [
      "Body: [~accountid:5d4c220bc54e920cf3b81002] - can you have one of the Robocopies take a look?\\n\\nCC [~accountid:557058:f231f7c9-785e-482f-92b6-80fc5c21efde] \n",
      "Updated: 2020-08-18T08:25:26.489-0400\n",
      "\n",
      "Body: [~accountid:5ade5093027e7a2ebfcbd97e] [~accountid:5d4c220bc54e920cf3b81002] from my review, kafka publishing is working in the shipboard cms\n",
      "Updated: 2020-08-18T09:46:49.073-0400\n",
      "\n",
      "Body: Whats the next step here [~accountid:557058:0f208764-1c6c-4e4c-9232-eeee6e25b134] ?\n",
      "Updated: 2020-08-18T11:25:49.614-0400\n",
      "\n",
      "Body: [~accountid:557058:0f208764-1c6c-4e4c-9232-eeee6e25b134] Did you publish the changes after you saved? See screenshot below. The modification date looks like its from July.\\n\\n!image-20200821-140438.png|width=1440,height=798!\n",
      "Updated: 2020-08-21T10:04:44.986-0400\n",
      "\n",
      "Body: Yes [~accountid:5d4c220bc54e920cf3b81002] I published. In my screenshots above, you will see AUG 21.\\n[http://cms-integration.ship.virginvoyages.com/.magnolia/admincentral#app:ship-spaces:browser;/Eateries/Razzle-Dazzle-Restaurant:treeview:|http://cms-integration.ship.virginvoyages.com/.magnolia/admincentral#app:ship-spaces:browser;/Eateries/Razzle-Dazzle-Restaurant:treeview:]\\n\\n!Screen Shot 2020-08-21 at 7.41.22 PM.png|width=2162,height=1272!\n",
      "Updated: 2020-08-21T10:12:50.010-0400\n",
      "\n",
      "Body: [~accountid:557058:0f208764-1c6c-4e4c-9232-eeee6e25b134] can you take a screenshot of the color of the dot under the status column of that row?\n",
      "Updated: 2020-08-21T10:17:22.738-0400\n",
      "\n",
      "Body: [~accountid:5d4c220bc54e920cf3b81002]  this one?\\n\\n!Screen Shot 2020-08-21 at 7.54.21 PM.png|width=2384,height=1266!\n",
      "Updated: 2020-08-21T10:25:02.836-0400\n",
      "\n",
      "Body: [~accountid:557058:0f208764-1c6c-4e4c-9232-eeee6e25b134] the CMS Ship Non Prod only publishes on the qa-ship-cms.content topic\n",
      "Updated: 2020-08-21T10:28:49.986-0400\n",
      "\n",
      "Body: [~accountid:557058:f231f7c9-785e-482f-92b6-80fc5c21efde]  I see that can be an issue. ES Index of INTegration and DEV will not get the update.\\nCan we publish events to DEV-Ship and INTegration-Ship? I mean on topic *integration-ship-cms.content* and *dev-ship-cms.content*\\n\\nFYI [~accountid:5b14e7a391981f4fdde62acc] [~accountid:5d1cae79ca72d00d24ba02c4] \n",
      "Updated: 2020-08-21T10:39:37.574-0400\n",
      "\n",
      "Body: [~accountid:557058:0f208764-1c6c-4e4c-9232-eeee6e25b134] this was communicated out last year when we initially created the non prod shipboard environment. since we only have one instance of the cms we can only support one environment fully which means that we had to choose a single kafka topic to use\\n\\nWe would recommend that you point our Dev and Int to the same topic and QA on ship non prod\n",
      "Updated: 2020-08-21T10:40:14.195-0400\n",
      "\n",
      "Body: Ok, [~accountid:557058:f231f7c9-785e-482f-92b6-80fc5c21efde] If that’s the case then we need to handle it. Thanks, this helps ? \n",
      "Updated: 2020-08-21T10:46:15.928-0400\n",
      "\n",
      "Body: As suggested by [~accountid:557058:f231f7c9-785e-482f-92b6-80fc5c21efde] VXP need to consume the events for DEV and INTegration.\n",
      "Updated: 2020-08-21T10:47:43.835-0400\n",
      "\n"
     ]
    }
   ],
   "source": [
    "pattern = r\"'body':\\s*'([^']*)'[^}]*'updated':\\s*'([^']*)'\"\n",
    "matches = re.findall(pattern, df['Comments'][2])\n",
    "\n",
    "for body, updated in matches:\n",
    "    print(\"Body:\", body)\n",
    "    print(\"Updated:\", updated)\n",
    "    print()"
   ]
  },
  {
   "cell_type": "code",
   "execution_count": null,
   "metadata": {},
   "outputs": [],
   "source": []
  }
 ],
 "metadata": {
  "kernelspec": {
   "display_name": "Python 3",
   "language": "python",
   "name": "python3"
  },
  "language_info": {
   "codemirror_mode": {
    "name": "ipython",
    "version": 3
   },
   "file_extension": ".py",
   "mimetype": "text/x-python",
   "name": "python",
   "nbconvert_exporter": "python",
   "pygments_lexer": "ipython3",
   "version": "3.7.0"
  },
  "orig_nbformat": 4
 },
 "nbformat": 4,
 "nbformat_minor": 2
}
